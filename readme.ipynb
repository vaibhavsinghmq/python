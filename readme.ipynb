{
 "cells": [
  {
   "cell_type": "markdown",
   "id": "deb8a297",
   "metadata": {},
   "source": [
    "Hello \n",
    "<p style=\"fon\">\n",
    "&nbsp;&nbsp;&nbsp;&nbsp;git --rebase\n",
    "</p>\n",
    "<span style=\"color: #f2cf4a; font-family: Babas; font-size: 2em;\">INSPIRATION DAY</span>\n",
    "\n",
    "<p style=\"font-family: courier;\">\n",
    "&nbsp;&nbsp;&nbsp; git pull --rebase upstream master\n",
    "</p>"
   ]
  },
  {
   "cell_type": "code",
   "execution_count": null,
   "id": "e549ef98",
   "metadata": {},
   "outputs": [],
   "source": []
  }
 ],
 "metadata": {
  "kernelspec": {
   "display_name": "Python 3",
   "language": "python",
   "name": "python3"
  },
  "language_info": {
   "codemirror_mode": {
    "name": "ipython",
    "version": 3
   },
   "file_extension": ".py",
   "mimetype": "text/x-python",
   "name": "python",
   "nbconvert_exporter": "python",
   "pygments_lexer": "ipython3",
   "version": "3.8.8"
  }
 },
 "nbformat": 4,
 "nbformat_minor": 5
}
