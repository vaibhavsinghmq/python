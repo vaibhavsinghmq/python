{
 "cells": [
  {
   "cell_type": "markdown",
   "id": "83ced5cf",
   "metadata": {},
   "source": [
    "Hello \n",
    "<p>\n",
    "&nbsp;&nbsp;&nbsp;&nbsp;git --rebase\n",
    "</p>\n",
    "<br/>\n",
    "<span class=\"inspiration\">INSPIRATION DAY</span>\n",
    "<br/>\n",
    "<p class=\"ft-courier\">\n",
    "&nbsp;&nbsp;&nbsp; git pull --rebase upstream master\n",
    "</p>"
   ]
  },
  {
   "cell_type": "code",
   "execution_count": null,
   "id": "dd585634",
   "metadata": {},
   "outputs": [],
   "source": []
  },
  {
   "cell_type": "code",
   "execution_count": null,
   "id": "27896bdd",
   "metadata": {},
   "outputs": [],
   "source": []
  }
 ],
 "metadata": {
  "kernelspec": {
   "display_name": "Python 3",
   "language": "python",
   "name": "python3"
  },
  "language_info": {
   "codemirror_mode": {
    "name": "ipython",
    "version": 3
   },
   "file_extension": ".py",
   "mimetype": "text/x-python",
   "name": "python",
   "nbconvert_exporter": "python",
   "pygments_lexer": "ipython3",
   "version": "3.8.8"
  }
 },
 "nbformat": 4,
 "nbformat_minor": 5
}
